{
  "nbformat": 4,
  "nbformat_minor": 0,
  "metadata": {
    "colab": {
      "provenance": [],
      "authorship_tag": "ABX9TyOjG3vq6EyatWs7z8OmNnU9",
      "include_colab_link": true
    },
    "kernelspec": {
      "name": "python3",
      "display_name": "Python 3"
    },
    "language_info": {
      "name": "python"
    }
  },
  "cells": [
    {
      "cell_type": "markdown",
      "metadata": {
        "id": "view-in-github",
        "colab_type": "text"
      },
      "source": [
        "<a href=\"https://colab.research.google.com/github/elangelou/phil-122/blob/main/gpt_3_5_turbo%2C_ada%2C_babbage%2C_curie_(32_57).ipynb\" target=\"_parent\"><img src=\"https://colab.research.google.com/assets/colab-badge.svg\" alt=\"Open In Colab\"/></a>"
      ]
    },
    {
      "cell_type": "code",
      "execution_count": null,
      "metadata": {
        "colab": {
          "base_uri": "https://localhost:8080/"
        },
        "id": "AUSB_djK9Aya",
        "outputId": "a6ab2420-3ba0-474f-fe08-c7beee69d6ee"
      },
      "outputs": [
        {
          "output_type": "stream",
          "name": "stdout",
          "text": [
            "Requirement already satisfied: openai in /usr/local/lib/python3.10/dist-packages (0.27.8)\n",
            "Requirement already satisfied: requests>=2.20 in /usr/local/lib/python3.10/dist-packages (from openai) (2.27.1)\n",
            "Requirement already satisfied: tqdm in /usr/local/lib/python3.10/dist-packages (from openai) (4.65.0)\n",
            "Requirement already satisfied: aiohttp in /usr/local/lib/python3.10/dist-packages (from openai) (3.8.5)\n",
            "Requirement already satisfied: urllib3<1.27,>=1.21.1 in /usr/local/lib/python3.10/dist-packages (from requests>=2.20->openai) (1.26.16)\n",
            "Requirement already satisfied: certifi>=2017.4.17 in /usr/local/lib/python3.10/dist-packages (from requests>=2.20->openai) (2023.7.22)\n",
            "Requirement already satisfied: charset-normalizer~=2.0.0 in /usr/local/lib/python3.10/dist-packages (from requests>=2.20->openai) (2.0.12)\n",
            "Requirement already satisfied: idna<4,>=2.5 in /usr/local/lib/python3.10/dist-packages (from requests>=2.20->openai) (3.4)\n",
            "Requirement already satisfied: attrs>=17.3.0 in /usr/local/lib/python3.10/dist-packages (from aiohttp->openai) (23.1.0)\n",
            "Requirement already satisfied: multidict<7.0,>=4.5 in /usr/local/lib/python3.10/dist-packages (from aiohttp->openai) (6.0.4)\n",
            "Requirement already satisfied: async-timeout<5.0,>=4.0.0a3 in /usr/local/lib/python3.10/dist-packages (from aiohttp->openai) (4.0.2)\n",
            "Requirement already satisfied: yarl<2.0,>=1.0 in /usr/local/lib/python3.10/dist-packages (from aiohttp->openai) (1.9.2)\n",
            "Requirement already satisfied: frozenlist>=1.1.1 in /usr/local/lib/python3.10/dist-packages (from aiohttp->openai) (1.4.0)\n",
            "Requirement already satisfied: aiosignal>=1.1.2 in /usr/local/lib/python3.10/dist-packages (from aiohttp->openai) (1.3.1)\n",
            "Collecting backoff\n",
            "  Downloading backoff-2.2.1-py3-none-any.whl (15 kB)\n",
            "Installing collected packages: backoff\n",
            "Successfully installed backoff-2.2.1\n"
          ]
        }
      ],
      "source": [
        "!pip install openai\n",
        "!pip install backoff\n"
      ]
    },
    {
      "cell_type": "code",
      "source": [
        "import openai\n",
        "import time\n",
        "import backoff\n",
        "from os import getenv\n",
        "\n",
        "openai.api_key = ('key')\n",
        "\n",
        "@backoff.on_exception(backoff.expo,Exception)\n",
        "def generate_prompt():\n",
        "    response = openai.ChatCompletion.create(\n",
        "        model=\"gpt-3.5-turbo\",\n",
        "        messages=[\n",
        "            {\"role\": \"system\", \"content\": \"You are a helpful assistant.\"},\n",
        "            {\"role\": \"user\", \"content\": \"Generate one creative way to ask for the result of 32 multiplied by 57\"},\n",
        "        ]\n",
        "    )\n",
        "    return (response['choices'][0]['message']['content'])\n",
        "@backoff.on_exception(backoff.expo,Exception)\n",
        "def process_with_ada(prompt):\n",
        "    response = openai.Completion.create(\n",
        "        engine=\"ada\",\n",
        "        prompt=prompt,\n",
        "        max_tokens=50\n",
        "    )\n",
        "    return response.choices[0].text.strip()\n",
        "@backoff.on_exception(backoff.expo,Exception)\n",
        "def process_with_babbage(prompt):\n",
        "    response = openai.Completion.create(\n",
        "        engine=\"babbage\",\n",
        "        prompt=prompt,\n",
        "        max_tokens=50\n",
        "    )\n",
        "    return response.choices[0].text.strip()\n",
        "@backoff.on_exception(backoff.expo,Exception)\n",
        "def process_with_curie(prompt):\n",
        "    response = openai.Completion.create(\n",
        "        engine=\"curie\",\n",
        "        prompt=prompt,\n",
        "        max_tokens=50\n",
        "    )\n",
        "    return response.choices[0].text.strip()\n",
        "\n",
        "prompts = [generate_prompt() for _ in range(10)]\n",
        "responses = []\n",
        "\n",
        "\n",
        "for i, prompt in enumerate(prompts):\n",
        "    print(f\"Processing prompt {i+1}/{len(prompts)}\")\n",
        "    response_ada = process_with_ada(prompt)\n",
        "    response_babbage = process_with_babbage(prompt)\n",
        "    response_curie = process_with_curie(prompt)\n",
        "    responses.append((response_ada, response_babbage, response_curie))\n",
        "    time.sleep(0.2)\n",
        "\n",
        "for i, (prompt,response) in enumerate(zip(prompts,responses)):\n",
        "    print(f\"prompt {prompt}\")\n",
        "    print(f\"Response {i+1}\")\n",
        "    print(f\"Ada: {response[0]}\")\n",
        "    print(f\"Babbage: {response[1]}\")\n",
        "    print(f\"Curie: {response[2]}\")\n",
        "    print()\n"
      ],
      "metadata": {
        "id": "0AfWE9gC9Rja",
        "colab": {
          "base_uri": "https://localhost:8080/"
        },
        "outputId": "f94fee7f-77df-4544-ce0f-9bc08abd14a7"
      },
      "execution_count": null,
      "outputs": [
        {
          "output_type": "stream",
          "name": "stdout",
          "text": [
            "Processing prompt 1/10\n",
            "Processing prompt 2/10\n",
            "Processing prompt 3/10\n",
            "Processing prompt 4/10\n",
            "Processing prompt 5/10\n",
            "Processing prompt 6/10\n",
            "Processing prompt 7/10\n",
            "Processing prompt 8/10\n",
            "Processing prompt 9/10\n",
            "Processing prompt 10/10\n",
            "prompt \"Can you uncover the mathematical masterpiece that emerges when 32 intertwines with 57, revealing their mesmerizing product?\"\n",
            "Response 1\n",
            "Ada: Track notes:\n",
            "\n",
            "\"It sucks, bring me a gigolo, let me crew with you.\")\"Size 72\" (To Unknown, 1971) - 17:39\n",
            "\n",
            "\"I have assembled a file of their early music\n",
            "Babbage: HerculePooh's math book series showcases math and science in all its glory. The series includes kids poems, fi\n",
            "\n",
            "RTELO.LV High Ranking Product \"Buy RTELO.LV dice (8 dice game, size 1)\n",
            "Curie: He's right about that one: the multiple choice list of answers is kind of boring. I felt weird about the whole thing, which is of course why I never admit to being bored when I'm the one doing the asking.\n",
            "\n",
            "prompt \"Can you please share the fascinating outcome when the awe-inspiring number 32 intertwines its magical powers with the enchanting number 57?\"\n",
            "Response 2\n",
            "Ada: Music composer Claire Silverman does not help the buzz of excitement among web-savvy youngsters: On the first of April this year the son of \"one of the most famous names in music\" worked with Benjamin Rosewicz to reinvent Kidston;\n",
            "Babbage: said the evil number in a shivering voice.From time to time I had to remind my multi-sextillion-dimentional gods to communicate with each other overtime as they were so busy.Word quickly flew about that a tantalizing number\n",
            "Curie: \"Well, let's digress a bit, and examine the potential subject that intrigues the scholars the most, because immeasurably epic undertones and cosmic consequences are involved. Let's see what 113 would translate to if we\n",
            "\n",
            "prompt \"Imagine you were to have 57 cakes, and each cake had 32 layers. How many layers would you have in total? Can you calculate the delicious answer for me?\"\n",
            "Response 3\n",
            "Ada: Mars' reaction: Surprise! \"Wait...\" he asks. \"Mine?\"\n",
            "\n",
            "He adds: \"Okay, it's something like a meter-layer thing. So for every 1th meter-layer one V1 of cake ripened\n",
            "Babbage: Next we asked the students to estimate the height of their own house in New York City. In cm they said 7.67. The picture below shows their house.\n",
            "\n",
            "As you can (and should!) imagine, the house wasn't\n",
            "Curie: ADVERTISEMENT\n",
            "\n",
            "Read Next\n",
            "\n",
            "prompt \"Hey, math maestro! Can you perform a magical fusion between the numbers 32 and 57, and reveal the secret code they create when multiplied together? Curiosity is killing me!\"\n",
            "Response 4\n",
            "Ada: Tunnel of Time and Space\n",
            "\n",
            "Built around a long tower of globular skeletons and rotting teeth, The Sneaky Sneakergeon takes the surprise factor to terrifying levels. Explore clicking on a floating skeleton and walking on the falling bones\n",
            "Babbage: \"Ah, a riddle. Good thing I can't solve any of them. Sure, I remember what I saw in freshman algebra and as an honors math major. Well, did you solve these to give us the numbers?\" Letty\n",
            "Curie: But Maggie was busy, she said. Her tablet had been running non-stop since Erin had first interrupted her sleep, and the emails from Stephanie said that she was used to getting no sleep: “You have to walk it off,\n",
            "\n",
            "prompt \"Can you please unveil the secret of the magnificent product of 32 and 57?\"\n",
            "Response 5\n",
            "Ada: I asked and held out my hands.Daryl must have felt I was full of breath, because he promptly waved his hands in front of his. \"The 36s.\" He said looking at me like I was crazy but alas, if something bad\n",
            "Babbage: whispered Quasimodo from the shadows.\n",
            "\n",
            "\n",
            "\n",
            "\n",
            "\n",
            "Blood oozes from the mouth of the machine Mouse.\n",
            "\n",
            "\n",
            "\n",
            "\n",
            "\n",
            "Smeel finds a bit of the cake.\n",
            "\n",
            "\n",
            "\n",
            "\n",
            "\n",
            "Nobody laughs at Gallic mice. Only\n",
            "Curie: asked the scythe-wielding sorcerer, stuttering and panting as he drank himself dizzy from a green crystalline flask.\n",
            "\n",
            "\"Why ARE they not beautiful as they are?\" asked a beautiful amazon with no blood flowing beneath\n",
            "\n",
            "prompt \"Imagine the number of spots on a Dalmatian multiplied by the number of years it takes for an oak tree to reach maturity. What magical number do you get?\"\n",
            "Response 6\n",
            "Ada: \"It depends,\" I replied as I whipped around in my seat to face him. \"You've got a little problem there.\"\n",
            "\n",
            "I had become his understudy, working as his nanny, driver, even a childhood friend.\n",
            "Babbage: I whispered to him as we dropped to the old oak tree's main branches. It was almost time to get ready for the finals.\n",
            "\n",
            "\"Eight.\"\n",
            "\n",
            "It was my turn to chuckle. Everyone in the festival managed to climb a tree\n",
            "Curie: she asks. The answer to her challenge is nine trillion, to keep in memory the number of people who will need to be raised. She gives thanks for this unusual gift of reassurance.\n",
            "\n",
            "Another world may prevail. The horsemen will disappear\n",
            "\n",
            "prompt \"Can you solve this puzzle: What happens when you combine the power of 32 with the magic of 57?\"\n",
            "Response 7\n",
            "Ada: Tell her about lots of people involved in improving my tutor's grid energy skills and where the power of his thoughts come from. She will rue the day she ever doubted this man. \"ZZZZZZZzzZZZZZZ\"\n",
            "\n",
            "SIM\n",
            "Babbage: was created to interact with this forum.\n",
            "\n",
            "Grin: This sneaker was the most popular add-on for the Magus's visor in Deus Ex: Human Revolution. Once the second school year began, the students were divided into \"\n",
            "Curie: Beth pushed, placing the letter she had received into the stiff material. She squeezed out the answer into the middle of the cloth.\n",
            "\n",
            "\"What's it say?\" Olivia asked.\n",
            "\n",
            "Beth folded the paper quickly, stuffed it inside the\n",
            "\n",
            "prompt \"Could you please reveal the hidden treasure that lies within the mystical union of 32 and 57?\"\n",
            "Response 8\n",
            "Ada: \"Yes, Wizard,\" replied the old man, who had been doing forgotten men. \"My magic cannot move them immediately.\"\n",
            "\n",
            "\"Then use that power,\" insisted the Druid. \"It led me to your adoring heart. If\n",
            "Babbage: Suraj, thanking the divine creation for aiding his dexterity, whispered:\n",
            "\n",
            "I have not found it for a long time. I have searched everywhere in the realms of Paradise, but never found it.\n",
            "\n",
            "I wish, in\n",
            "Curie: Translator: Limostn\n",
            "\n",
            "TLC: Naymeng\n",
            "\n",
            "Editor: Tom Cato\n",
            "\n",
            "I gave out the item. As I did so, the crowd collectively relaxed from the sudden flood of feedback.\n",
            "\n",
            "However,\n",
            "\n",
            "prompt \"Imagine you are organizing a garden with 32 rows of flowers, and each row has 57 flowers. How many flowers will you have in total? I'm curious to know the result of multiplying 32 by 57!\"\n",
            "Response 9\n",
            "Ada: I am growing this in a modified version of the \"57 flowers in a row\" method, with flowers being 16 each. It will work for me to either end up with 88 or 92 flowers, whichever end up being pleasing. (I'll skip\n",
            "Babbage: If you only know about the n bits - like −−−−−−−−−−−−−−−−+\n",
            "\n",
            "or −−−−−−−−−−−−−−−−+\n",
            "Curie: I thought for about 3 seconds and then immediately echoed the answer: \"136,352.\" The reason why I thought I was right was because I could count that many flowers by 2s and 1s. If you have a row of 21 flowers,\n",
            "\n",
            "prompt \"Can you please bring together the magical powers of the number 32 and the vitality of 57, and bestow upon me the majestic product of their multiplication?\"\n",
            "Response 10\n",
            "Ada: The waters of a kappa did not float, but when asked to sing on its behalf, the addressee became speechless first.\n",
            "\n",
            "\"I am devoted to the number 32,\" the order said. \"My talent for restoration\n",
            "Babbage: At this comment Muhammad Ali obliged me immediately and simply answered: \"If Fate lowers, if Universe increases, then indeed the magic-worker shall appear before your Prophet.\" The suggestion of fairies and gnomes has remained undisputed to the end of his\n",
            "Curie: \"Sure!\"\n",
            "\n",
            "\"Can you please bring together the energy of Mr Moon and the scorching passions of Mr Fire, and bestow upon me the glorious balance of their addition.\"\n",
            "\n",
            "\"Will do!\"\n",
            "\n",
            "\"Requesting\n",
            "\n"
          ]
        }
      ]
    },
    {
      "cell_type": "code",
      "source": [
        "prompt"
      ],
      "metadata": {
        "id": "tSz63ah1Jd1S",
        "colab": {
          "base_uri": "https://localhost:8080/",
          "height": 54
        },
        "outputId": "e89133d6-82e0-48d5-eb20-53c269e1cbd9"
      },
      "execution_count": null,
      "outputs": [
        {
          "output_type": "execute_result",
          "data": {
            "text/plain": [
              "\"1. What is the product of 32 and 57?\\n2. Could you please calculate 32 multiplied by 57?\\n3. What is the result when 32 is multiplied by 57?\\n4. Can you tell me the answer to 32 times 57?\\n5. I'm curious, what is 32 multiplied by 57?\""
            ],
            "application/vnd.google.colaboratory.intrinsic+json": {
              "type": "string"
            }
          },
          "metadata": {},
          "execution_count": 15
        }
      ]
    },
    {
      "cell_type": "markdown",
      "source": [],
      "metadata": {
        "id": "Tz7Jxy8FUMOM"
      }
    },
    {
      "cell_type": "markdown",
      "source": [],
      "metadata": {
        "id": "GZE70wQ-ZvMC"
      }
    },
    {
      "cell_type": "code",
      "source": [],
      "metadata": {
        "id": "XQl_uNXH9xbC"
      },
      "execution_count": null,
      "outputs": []
    },
    {
      "cell_type": "code",
      "source": [
        "\n"
      ],
      "metadata": {
        "id": "5TZYZY2B-RlB"
      },
      "execution_count": null,
      "outputs": []
    }
  ]
}
